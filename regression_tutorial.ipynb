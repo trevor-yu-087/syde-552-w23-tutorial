{
 "cells": [
  {
   "attachments": {},
   "cell_type": "markdown",
   "metadata": {},
   "source": [
    "# Linear regression activity\n",
    "\n",
    "The data on LEARN are measurements of the encoded response a neuron generates when a visual stimulus presented at different angles. The independent variable is the stimulus angle in radians and the dependent variable is sensory specific information in bits. The data was digitized from figure 1.B in [1].\n",
    "\n",
    "In this activity, you will fit a ridge regression model to this data. As you will see in the data plot, the curve is non-linear, so a Gaussian basis function (kernel) will be used to generate the features for the regression.\n",
    "\n",
    "There are 4 tasks for you to complete the example. Cells have clearly marked `# TODO` and `#####` comments for you to insert your code between. Variables assigned to `None` should keep the same name but assigned to their proper implementation.\n",
    "\n",
    "1. Load and plot the complete dataset.\n",
    "2. Finish the implementation for the Gaussian kernel class.\n",
    "3. Fit the kernel ridge regression model with the scikit-learn package.\n",
    "4. Plot the results of the model.\n",
    "\n",
    "[1] D. A. Butts and M. S. Goldman, “Tuning curves, neuronal variability, and sensory coding,” PLoS Biology, vol. 4, no. 4, 2006. "
   ]
  },
  {
   "cell_type": "code",
   "execution_count": null,
   "metadata": {},
   "outputs": [],
   "source": [
    "# TODO: Run this cell to import the relevant packages\n",
    "import pickle  # Read/write serialized python objects to files\n",
    "import numpy as np  # Numerical arrays\n",
    "from sklearn.linear_model import Ridge  # Ridge regression model\n",
    "from matplotlib import pyplot as plt  # Plotting and data visualization"
   ]
  },
  {
   "attachments": {},
   "cell_type": "markdown",
   "metadata": {},
   "source": [
    "# 1. Load and plot the data\n",
    "\n",
    "Relevant documentation:\n",
    "- [Matplotlib plotting](https://matplotlib.org/stable/api/_as_gen/matplotlib.pyplot.plot.html)"
   ]
  },
  {
   "cell_type": "code",
   "execution_count": null,
   "metadata": {},
   "outputs": [],
   "source": [
    "# TODO: Change the filepath to point the regression activity data\n",
    "# In Google Colab, uploaded data is in /content/your_filename\n",
    "filepath = None\n",
    "#####\n",
    "\n",
    "with open(filepath, \"rb\") as f:\n",
    "    data = pickle.load(f)\n",
    "\n",
    "x = data[\"angle\"]\n",
    "y = data[\"ssi\"]\n",
    "\n",
    "print(f\"x is an array of shape {x.shape}\")\n",
    "print(f\"y is an array of shape {y.shape}\")"
   ]
  },
  {
   "cell_type": "code",
   "execution_count": null,
   "metadata": {},
   "outputs": [],
   "source": [
    "# TODO: Use matplotlib (plt) to plot the data, x and y\n",
    "\n",
    "#####\n",
    "\n",
    "plt.xlabel(\"Stimulus angle [radians]\")\n",
    "plt.ylabel(\"SSI [bits]\")\n",
    "plt.title(\"Neuron information encoding curve\")\n",
    "plt.show()"
   ]
  },
  {
   "cell_type": "markdown",
   "metadata": {},
   "source": [
    "# 2. Finish the implementation of the Gaussian kernel class\n",
    "\n",
    "The formula for the Gaussian function, given parameters $\\mu$ and $\\sigma$, is:\n",
    "\n",
    "$$\\phi(x | \\mu, \\sigma) = e^{-\\frac{1}{2}(\\frac{x - \\mu}{\\sigma})^2}$$"
   ]
  },
  {
   "cell_type": "code",
   "execution_count": null,
   "metadata": {},
   "outputs": [],
   "source": [
    "class Gaussian:\n",
    "    def __init__(self, mu, sigma):\n",
    "        \"\"\"\n",
    "        Class to represent the a Gaussian kernel for kernel ridge regression\n",
    "\n",
    "        Example code:\n",
    "            ```\n",
    "            kernel = Gaussian(0, 1)\n",
    "            ```\n",
    "\n",
    "        :param mu: mean of the Gaussian\n",
    "        :param sigma: standard deviation of the Gaussian\n",
    "        \"\"\"\n",
    "        self.mu = mu\n",
    "        self.sigma = sigma\n",
    "\n",
    "    def __call__(self, x):\n",
    "        \"\"\"\n",
    "        Override call function to compute Gaussian function of input values\n",
    "\n",
    "        Example code:\n",
    "            ```\n",
    "            kernel = Gaussian(0, 1)\n",
    "            y = kernel(x)\n",
    "            ```\n",
    "\n",
    "        :param x: array of input values for the kernel function\n",
    "        :return: values of the kernel function evaluated at x\n",
    "        \"\"\"\n",
    "        # TODO: Fill in the equation for the Gaussian function\n",
    "        phi = None\n",
    "        #####\n",
    "        return phi"
   ]
  },
  {
   "cell_type": "code",
   "execution_count": null,
   "metadata": {},
   "outputs": [],
   "source": [
    "# TODO: Run this cell to check that your implementation works\n",
    "width = 1\n",
    "centres = np.linspace(-1, 1, 5)\n",
    "basis_functions = [Gaussian(centre, width) for centre in centres]\n",
    "\n",
    "x_plot = np.linspace(-4, 4, 200)\n",
    "\n",
    "for kernel in basis_functions:\n",
    "    y_plot = kernel(x_plot)\n",
    "    plt.plot(x_plot, y_plot)\n",
    "plt.show()"
   ]
  },
  {
   "attachments": {},
   "cell_type": "markdown",
   "metadata": {},
   "source": [
    "# 3. Train the kernel ridge regression model\n",
    "For the ridge regression model, use regularization parameter $\\alpha = 1 \\times 10^{-2}$ and do not fit the intercept.\n",
    "\n",
    "Use at least 20 basis functions with centers between -2 and 2. Examine the plot of the Gaussians and try plotting different widths. Compare to the curve we want to fit to select an appropriate width.\n",
    "\n",
    "Relevant documentation:\n",
    "- [scikit-learn Ridge documentation](https://scikit-learn.org/stable/modules/generated/sklearn.linear_model.Ridge.html)"
   ]
  },
  {
   "cell_type": "code",
   "execution_count": null,
   "metadata": {},
   "outputs": [],
   "source": [
    "# TODO: Run this cell\n",
    "def eval_basis_functions(x, basis_functions):\n",
    "    \"\"\"\n",
    "    Function to compute the transformed features of the independent variable given a set of basis functions.\n",
    "    If the input data, x, has n samples and there are k basis functions, the result, phi, will be of shape (n, k)\n",
    "\n",
    "    :param x: a sample or samples of the independent variable, shape (n,)\n",
    "    :param basis_functions: a list of k Gaussian basis functions\n",
    "    :return: values of basis function evaluations at x, shape (n, k)\n",
    "    \"\"\"\n",
    "    try:\n",
    "        iter(x)\n",
    "    except TypeError:\n",
    "        x = [x]\n",
    "\n",
    "    phi = np.zeros((len(x), len(basis_functions)))\n",
    "    for i, basis_function in enumerate(basis_functions):\n",
    "        phi[:, i] = basis_function(x)\n",
    "    return phi"
   ]
  },
  {
   "cell_type": "code",
   "execution_count": null,
   "metadata": {},
   "outputs": [],
   "source": [
    "# TODO: Make a list of Gaussians to use as the basis functions\n",
    "\n",
    "#####"
   ]
  },
  {
   "cell_type": "code",
   "execution_count": null,
   "metadata": {},
   "outputs": [],
   "source": [
    "# TODO: Instantiate a ridge regression model based on the specification above\n",
    "ridge = None\n",
    "#####"
   ]
  },
  {
   "cell_type": "code",
   "execution_count": null,
   "metadata": {},
   "outputs": [],
   "source": [
    "# TODO: Fit the ridge model using ridge.fit(X, y),\n",
    "# where X is the feature matrix generated from the basis functions\n",
    "# and y is the dependent variable of our data\n",
    "\n",
    "#####"
   ]
  },
  {
   "cell_type": "markdown",
   "metadata": {},
   "source": [
    "# 4. Plot the results of the model"
   ]
  },
  {
   "cell_type": "code",
   "execution_count": null,
   "metadata": {},
   "outputs": [],
   "source": [
    "x_plot = np.linspace(-2, 2, 100)\n",
    "# TODO: Evaluate the ridge model using ridge.predict(X).\n",
    "# Use x_plot to generate the inputs to the predict function. \n",
    "# The prediction outputs should be the same shape as x_plot.\n",
    "\n",
    "#####"
   ]
  },
  {
   "cell_type": "code",
   "execution_count": null,
   "metadata": {},
   "outputs": [],
   "source": [
    "# TODO: Plot the model predictions, using the label \"Kernel ridge regression\"\n",
    "\n",
    "#####\n",
    "\n",
    "plt.scatter(x, y, color=\"black\", label=\"Data\")\n",
    "plt.xlabel(\"Stimulus angle [radians]\")\n",
    "plt.ylabel(\"SSI [bits]\")\n",
    "plt.title(\"Neuron information encoding curve\")\n",
    "plt.legend()\n",
    "plt.show()"
   ]
  }
 ],
 "metadata": {
  "kernelspec": {
   "display_name": "datasci",
   "language": "python",
   "name": "python3"
  },
  "language_info": {
   "codemirror_mode": {
    "name": "ipython",
    "version": 3
   },
   "file_extension": ".py",
   "mimetype": "text/x-python",
   "name": "python",
   "nbconvert_exporter": "python",
   "pygments_lexer": "ipython3",
   "version": "3.10.9 (main, Dec 15 2022, 17:11:09) [Clang 14.0.0 (clang-1400.0.29.202)]"
  },
  "orig_nbformat": 4,
  "vscode": {
   "interpreter": {
    "hash": "fddaefb328894158b465f763a80d93613a8dda1c2f29f2bb5673421f61ac7a4f"
   }
  }
 },
 "nbformat": 4,
 "nbformat_minor": 2
}
